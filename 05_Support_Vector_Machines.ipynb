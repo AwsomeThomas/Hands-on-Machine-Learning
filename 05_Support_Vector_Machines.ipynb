{
 "cells": [
  {
   "cell_type": "markdown",
   "metadata": {},
   "source": [
    "Support Vector Machines is very powerful, capable of performing linear or nonlinear classification, regressioin, and even outlier detection. SVMs are particularly well suited for classification of complex but small- or medium-sized datasets."
   ]
  },
  {
   "cell_type": "markdown",
   "metadata": {},
   "source": [
    "# Linear SVM Classification\n",
    "You can think of an SVM classifier as fitting the widest possible street between the classes.This is called **large margin classification**.\n",
    "![fig 5-1](images/5-1.png)\n",
    "Notice that adding more training instances \"off the street\" will not affect the decision boundary at all:it is fully determined(or \"supported\") by the instances located on the edge of the street. These instances are called the support vectors.\n",
    "\n",
    "SVMs are sensitive to the feature scales, as you can see in fig 5-2.\n",
    "![fig 5-2](images/5-2.png)\n",
    "\n",
    "# Soft Margin Classification"
   ]
  },
  {
   "cell_type": "code",
   "execution_count": null,
   "metadata": {},
   "outputs": [],
   "source": []
  }
 ],
 "metadata": {
  "kernelspec": {
   "display_name": "Python 3",
   "language": "python",
   "name": "python3"
  },
  "language_info": {
   "codemirror_mode": {
    "name": "ipython",
    "version": 3
   },
   "file_extension": ".py",
   "mimetype": "text/x-python",
   "name": "python",
   "nbconvert_exporter": "python",
   "pygments_lexer": "ipython3",
   "version": "3.6.3"
  }
 },
 "nbformat": 4,
 "nbformat_minor": 2
}
